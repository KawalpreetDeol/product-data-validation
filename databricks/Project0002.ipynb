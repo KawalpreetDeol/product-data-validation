{
 "cells": [
  {
   "cell_type": "code",
   "execution_count": null,
   "metadata": {
    "application/vnd.databricks.v1+cell": {
     "cellMetadata": {
      "byteLimit": 2048000,
      "rowLimit": 10000
     },
     "inputWidgets": {},
     "nuid": "58fbf49e-f6a3-4be2-a21f-087946ac0595",
     "showTitle": false,
     "title": ""
    }
   },
   "outputs": [
    {
     "name": "stdout",
     "output_type": "stream",
     "text": [
      "ProductData\n"
     ]
    }
   ],
   "source": [
    "#get the file name from the adf\n",
    "fileName = dbutils.widgets.get('fileName')\n",
    "# fileName = 'Product.csv'\n",
    "fileNameWithoutExt = fileName.split('.')[0]\n",
    "print(fileNameWithoutExt)"
   ]
  },
  {
   "cell_type": "code",
   "execution_count": null,
   "metadata": {
    "application/vnd.databricks.v1+cell": {
     "cellMetadata": {
      "byteLimit": 2048000,
      "rowLimit": 10000
     },
     "inputWidgets": {},
     "nuid": "6259a115-ab8d-46f2-9a36-7bda72962b56",
     "showTitle": false,
     "title": ""
    }
   },
   "outputs": [],
   "source": [
    "import pyspark.sql.functions as F\n",
    "#from datetime import datetme as dt\n",
    "\n",
    "#Just change all the values here based on the resource name you have created in your environemnt and workspace.\n",
    "\n",
    "sqlDbName = 'project0001sqldb'\n",
    "dbUserName = 'sqladmin'\n",
    "passwordKey = ''\n",
    "stgAccountSASTokenKey = 'datalakesastoken'\n",
    "landingFileName = fileName #'Product'  #dbutils.widgets.get('Product')\n",
    "databricksScopeName = 'project0002scope'\n",
    "dbServer = 'project0001sqlserver'\n",
    "dbServerPortNumber = '1433'\n",
    "storageContainer = 'inputdata'\n",
    "storageAccount= 'project0002datalake'\n",
    "landingMountPoint = '/mnt'\n"
   ]
  },
  {
   "cell_type": "code",
   "execution_count": null,
   "metadata": {
    "application/vnd.databricks.v1+cell": {
     "cellMetadata": {
      "byteLimit": 2048000,
      "rowLimit": 10000
     },
     "inputWidgets": {},
     "nuid": "1791d71e-246d-4fb9-ab59-9283fc2a0267",
     "showTitle": false,
     "title": ""
    }
   },
   "outputs": [
    {
     "name": "stdout",
     "output_type": "stream",
     "text": [
      "Mounted the storage account successfully\n"
     ]
    }
   ],
   "source": [
    "if not any(mount.mountPoint == landingMountPoint for mount in dbutils.fs.mounts()):\n",
    "    dbutils.fs.mount( source = 'wasbs://{}@{}.blob.core.windows.net'.format(storageContainer, storageAccount), mount_point= landingMountPoint, extra_configs ={'fs.azure.sas.{}.{}.blob.core.windows.net'.format(storageContainer,storageAccount):dbutils.secrets.get(scope = databricksScopeName, key= stgAccountSASTokenKey)})\n",
    "    print('Mounted the storage account successfully')\n",
    "else:\n",
    "    print('Storage account already mounted')"
   ]
  },
  {
   "cell_type": "code",
   "execution_count": null,
   "metadata": {
    "application/vnd.databricks.v1+cell": {
     "cellMetadata": {
      "byteLimit": 2048000,
      "rowLimit": 10000
     },
     "inputWidgets": {},
     "nuid": "be56aba3-aee9-4567-8590-49cbf7dc6eb9",
     "showTitle": false,
     "title": ""
    }
   },
   "outputs": [
    {
     "data": {
      "text/html": [
       "<style scoped>\n",
       "  .table-result-container {\n",
       "    max-height: 300px;\n",
       "    overflow: auto;\n",
       "  }\n",
       "  table, th, td {\n",
       "    border: 1px solid black;\n",
       "    border-collapse: collapse;\n",
       "  }\n",
       "  th, td {\n",
       "    padding: 5px;\n",
       "  }\n",
       "  th {\n",
       "    text-align: left;\n",
       "  }\n",
       "</style><div class='table-result-container'><table class='table-result'><thead style='background-color: white'><tr><th>FileNo</th><th>FileName</th><th>ColumnName</th><th>ColumnDateFormat</th><th>ColumnIsNull</th><th>ModifiedDate</th></tr></thead><tbody><tr><td>1</td><td>Product</td><td>StartDate</td><td>MM-dd-yyyy</td><td>true</td><td>2012-06-18T22:34:09.000+0000</td></tr><tr><td>1</td><td>Product</td><td>EndDate</td><td>MM/dd/yyyy</td><td>true</td><td>2012-06-18T22:34:09.000+0000</td></tr><tr><td>1</td><td>Product</td><td>CreateDate</td><td>MM/dd/yyyy</td><td>true</td><td>2012-06-18T22:34:09.000+0000</td></tr><tr><td>1</td><td>Product</td><td>ModifiedDate</td><td>MM/dd/yyyy</td><td>true</td><td>2012-06-18T22:34:09.000+0000</td></tr><tr><td>2</td><td>ProductDescription</td><td>ModifiedDate</td><td>MM/dd/yyyy</td><td>true</td><td>2012-06-18T22:34:09.000+0000</td></tr><tr><td>2</td><td>ProductDescription</td><td>StartDate</td><td>MM/dd/yyyy</td><td>true</td><td>2012-06-18T22:34:09.000+0000</td></tr><tr><td>2</td><td>ProductDescription</td><td>EndDate</td><td>MM/dd/yyyy</td><td>true</td><td>2012-06-18T22:34:09.000+0000</td></tr><tr><td>3</td><td>CustomerDetail</td><td>CreateDate</td><td>MM/dd/yyyy</td><td>true</td><td>2012-06-18T22:34:09.000+0000</td></tr><tr><td>3</td><td>CustomerDetail</td><td>ActiveDate</td><td>MM/dd/yyyy</td><td>true</td><td>2012-06-18T22:34:09.000+0000</td></tr></tbody></table></div>"
      ]
     },
     "metadata": {
      "application/vnd.databricks.v1+output": {
       "addedWidgets": {},
       "aggData": [],
       "aggError": "",
       "aggOverflow": false,
       "aggSchema": [],
       "aggSeriesLimitReached": false,
       "aggType": "",
       "arguments": {},
       "columnCustomDisplayInfos": {},
       "data": [
        [
         1,
         "Product",
         "StartDate",
         "MM-dd-yyyy",
         "true",
         "2012-06-18T22:34:09.000+0000"
        ],
        [
         1,
         "Product",
         "EndDate",
         "MM/dd/yyyy",
         "true",
         "2012-06-18T22:34:09.000+0000"
        ],
        [
         1,
         "Product",
         "CreateDate",
         "MM/dd/yyyy",
         "true",
         "2012-06-18T22:34:09.000+0000"
        ],
        [
         1,
         "Product",
         "ModifiedDate",
         "MM/dd/yyyy",
         "true",
         "2012-06-18T22:34:09.000+0000"
        ],
        [
         2,
         "ProductDescription",
         "ModifiedDate",
         "MM/dd/yyyy",
         "true",
         "2012-06-18T22:34:09.000+0000"
        ],
        [
         2,
         "ProductDescription",
         "StartDate",
         "MM/dd/yyyy",
         "true",
         "2012-06-18T22:34:09.000+0000"
        ],
        [
         2,
         "ProductDescription",
         "EndDate",
         "MM/dd/yyyy",
         "true",
         "2012-06-18T22:34:09.000+0000"
        ],
        [
         3,
         "CustomerDetail",
         "CreateDate",
         "MM/dd/yyyy",
         "true",
         "2012-06-18T22:34:09.000+0000"
        ],
        [
         3,
         "CustomerDetail",
         "ActiveDate",
         "MM/dd/yyyy",
         "true",
         "2012-06-18T22:34:09.000+0000"
        ]
       ],
       "datasetInfos": [],
       "dbfsResultPath": null,
       "isJsonSchema": true,
       "metadata": {},
       "overflow": false,
       "plotOptions": {
        "customPlotOptions": {},
        "displayType": "table",
        "pivotAggregation": null,
        "pivotColumns": [],
        "xColumns": [],
        "yColumns": []
       },
       "removedWidgets": [],
       "schema": [
        {
         "metadata": "{\"scale\":0}",
         "name": "FileNo",
         "type": "\"integer\""
        },
        {
         "metadata": "{\"scale\":0}",
         "name": "FileName",
         "type": "\"string\""
        },
        {
         "metadata": "{\"scale\":0}",
         "name": "ColumnName",
         "type": "\"string\""
        },
        {
         "metadata": "{\"scale\":0}",
         "name": "ColumnDateFormat",
         "type": "\"string\""
        },
        {
         "metadata": "{\"scale\":0}",
         "name": "ColumnIsNull",
         "type": "\"string\""
        },
        {
         "metadata": "{\"scale\":3}",
         "name": "ModifiedDate",
         "type": "\"timestamp\""
        }
       ],
       "type": "table"
      }
     },
     "output_type": "display_data"
    }
   ],
   "source": [
    "#connect to Azure SQL DB\n",
    "dbPassword = dbutils.secrets.get(scope = databricksScopeName, key= passwordKey)\n",
    "serverurl = 'jdbc:sqlserver://{}.database.windows.net:{};database={};user={};'.format(dbServer, dbServerPortNumber,sqlDbName,dbUserName)\n",
    "connectionProperties = {\n",
    "    'password':dbPassword,\n",
    "    'driver':'com.microsoft.sqlserver.jdbc.SQLServerDriver'\n",
    "}\n",
    "df = spark.read.jdbc(url = serverurl, table = 'dbo.FileDetailsFormat', properties= connectionProperties)\n",
    "display(df)\n"
   ]
  },
  {
   "cell_type": "code",
   "execution_count": null,
   "metadata": {
    "application/vnd.databricks.v1+cell": {
     "cellMetadata": {},
     "inputWidgets": {},
     "nuid": "638c358e-b149-4675-ad1c-33376b3d542e",
     "showTitle": false,
     "title": ""
    }
   },
   "outputs": [],
   "source": [
    "df1 = spark.read.csv('/mnt/landing/'+fileName, inferSchema=True, header=True)\n",
    "#display(df1)\n",
    "\n",
    "# Rule\n",
    "errorFlag=False\n",
    "errorMessage = ''\n",
    "totalcount = df1.count()\n",
    "print(totalcount)\n",
    "distinctCount = df1.distinct().count()\n",
    "print(distinctCount)\n",
    "if distinctCount !=totalcount:\n",
    "    errorFlag = True\n",
    "    errorMessage = 'Duplication Found. Rule 1 Failed'\n",
    "print(errorMessage)\n",
    "    \n",
    "# Rule 2\n",
    "df2 = df.filter(df.FileName==fileNameWithoutExt).select('ColumnName','ColumnDateFormat' )\n",
    "rows = df2.collect()\n",
    "for r in rows:\n",
    "    colName = r[0]\n",
    "    colFormat =r[1]\n",
    "    print(colName, colFormat)\n",
    "    #display(df1.filter(F.to_date(colName, colFormat).isNull() ==True))\n",
    "    formatCount =df1.filter(F.to_date(colName, colFormat).isNotNull() ==True).count()\n",
    "    if formatCount == totalcount:\n",
    "        errorFlag = True\n",
    "        errorMessage = errorMessage +' DateFormate is incorrect for {} '.format(colName)\n",
    "    else:\n",
    "        print('All rows are good for ', colName)\n",
    "print(errorMessage)\n",
    "\n",
    "if errorFlag:\n",
    "    dbutils.fs.mv('/mnt/landing/'+fileName,'/mnt/rejected/'+fileName )\n",
    "    dbutils.notebook.exit('{\"errorFlag\": \"true\", \"errorMessage\":\"'+errorMessage +'\"}')\n",
    "else:\n",
    "    dbutils.fs.mv('/mnt/landing/'+fileName,'/mnt/staging/'+fileName )\n",
    "    dbutils.notebook.exit('{\"errorFlag\": \"false\", \"errorMessage\":\"No error\"}')"
   ]
  }
 ],
 "metadata": {
  "application/vnd.databricks.v1+notebook": {
   "dashboards": [],
   "language": "python",
   "notebookMetadata": {
    "pythonIndentUnit": 4
   },
   "notebookName": "Project0002",
   "widgets": {}
  },
  "language_info": {
   "name": "python"
  }
 },
 "nbformat": 4,
 "nbformat_minor": 0
}
